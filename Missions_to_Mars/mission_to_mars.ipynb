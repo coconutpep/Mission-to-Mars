{
 "cells": [
  {
   "cell_type": "code",
   "execution_count": 1,
   "metadata": {},
   "outputs": [],
   "source": [
    "#Import Dependencies\n",
    "from bs4 import BeautifulSoup as bs\n",
    "import pandas as pd\n",
    "from splinter import Browser"
   ]
  },
  {
   "cell_type": "code",
   "execution_count": 2,
   "metadata": {},
   "outputs": [],
   "source": [
    "#Scrape NASA Mars News Site\n",
    "#Set the executable path\n",
    "executable_path = {'executable_path':'../../chromedriver.exe'}\n",
    "browser = Browser('chrome', **executable_path, headless=False)\n",
    "#Set the url to visit\n",
    "url = 'https://mars.nasa.gov/news/'\n",
    "browser.visit(url)"
   ]
  },
  {
   "cell_type": "code",
   "execution_count": 3,
   "metadata": {},
   "outputs": [],
   "source": [
    "#Set up BeautifulSoup object\n",
    "html = browser.html\n",
    "soup = bs(html, 'html.parser')"
   ]
  },
  {
   "cell_type": "code",
   "execution_count": 4,
   "metadata": {},
   "outputs": [],
   "source": [
    "#Scrape Latest News Article\n",
    "#Scrape Title\n",
    "article = soup.find('div', class_='list_text')\n",
    "news_title = article.find('a').text\n",
    "#Scrape article text\n",
    "news_p = article.find('div', class_='article_teaser_body').text"
   ]
  },
  {
   "cell_type": "code",
   "execution_count": 5,
   "metadata": {},
   "outputs": [],
   "source": [
    "#Have splinter go to site for image scraping\n",
    "url2 = 'https://www.jpl.nasa.gov/spaceimages/?search=&category=Mars'\n",
    "browser.visit(url2)\n",
    "#Reset Beautiful Soup\n",
    "html2 = browser.html\n",
    "soup2 = bs(html2, 'html.parser')"
   ]
  },
  {
   "cell_type": "code",
   "execution_count": 6,
   "metadata": {
    "tags": [
     "outputPrepend"
    ]
   },
   "outputs": [],
   "source": [
    "#Scrape main image\n",
    "img_style = soup2.find('article', class_='carousel_item')['style']\n",
    "img_path = img_style[22:(len(img_style)-2)]\n",
    "featured_image_url = url2 + img_path"
   ]
  },
  {
   "cell_type": "code",
   "execution_count": 7,
   "metadata": {},
   "outputs": [],
   "source": [
    "#Set spliter to Mars Weather Twitter\n",
    "#url3 = 'https://twitter.com/marswxreport?lang=en'\n",
    "#browser.visit(url3)\n",
    "#Reset Beautiful Soup\n",
    "#html3 = browser.html\n",
    "#soup3 = bs(html3, 'html.parser')"
   ]
  },
  {
   "cell_type": "code",
   "execution_count": 8,
   "metadata": {},
   "outputs": [],
   "source": [
    "#Scrape weather information\n",
    "#soup3.body.find_all('span', class_='css-901oao css-16my406z').text\n",
    "#This should work but bs can't seem to parse twitter's page"
   ]
  },
  {
   "cell_type": "code",
   "execution_count": 10,
   "metadata": {},
   "outputs": [
    {
     "output_type": "execute_result",
     "data": {
      "text/plain": "[                      0                              1\n 0  Equatorial Diameter:                       6,792 km\n 1       Polar Diameter:                       6,752 km\n 2                 Mass:  6.39 × 10^23 kg (0.11 Earths)\n 3                Moons:            2 (Phobos & Deimos)\n 4       Orbit Distance:       227,943,824 km (1.38 AU)\n 5         Orbit Period:           687 days (1.9 years)\n 6  Surface Temperature:                   -87 to -5 °C\n 7         First Record:              2nd millennium BC\n 8          Recorded By:           Egyptian astronomers,\n                       0                              1\n 0             Diameter:                       3,475 km\n 1                 Mass:  7.35 × 10^22 kg (0.01 Earths)\n 2               Orbits:                      The Earth\n 3       Orbit Distance:                     384,400 km\n 4         Orbit Period:                      27.3 days\n 5  Surface Temperature:                 -233 to 123 °C,\n   Mars - Earth Comparison             Mars            Earth\n 0               Diameter:         6,779 km        12,742 km\n 1                   Mass:  6.39 × 10^23 kg  5.97 × 10^24 kg\n 2                  Moons:                2                1\n 3      Distance from Sun:   227,943,824 km   149,598,262 km\n 4         Length of Year:   687 Earth days      365.24 days\n 5            Temperature:    -153 to 20 °C      -88 to 58°C,\n                       0                              1\n 0  Equatorial Diameter:                       6,792 km\n 1       Polar Diameter:                       6,752 km\n 2                 Mass:  6.39 × 10^23 kg (0.11 Earths)\n 3                Moons:            2 (Phobos & Deimos)\n 4       Orbit Distance:       227,943,824 km (1.38 AU)\n 5         Orbit Period:           687 days (1.9 years)\n 6  Surface Temperature:                   -87 to -5 °C\n 7         First Record:              2nd millennium BC\n 8          Recorded By:           Egyptian astronomers]"
     },
     "metadata": {},
     "execution_count": 10
    }
   ],
   "source": [
    "#Scrape Mars Facts page tables\n",
    "url4 = 'https://space-facts.com/mars/'\n",
    "tables = pd.read_html(url4)\n",
    "tables"
   ]
  },
  {
   "cell_type": "code",
   "execution_count": 29,
   "metadata": {},
   "outputs": [
    {
     "output_type": "execute_result",
     "data": {
      "text/plain": "<bound method BaseWebDriver.quit of <splinter.driver.webdriver.chrome.WebDriver object at 0x0000025AE16A58C8>>"
     },
     "metadata": {},
     "execution_count": 29
    }
   ],
   "source": [
    "#scrape hemispere images from USGS\n",
    "#reset splinter \n",
    "url5 = 'https://astrogeology.usgs.gov/search/results?q=hemisphere+enhanced&k1=target&v1=Mars'\n",
    "browser.visit(url5)\n",
    "#Set bs\n",
    "html5 = browser.html\n",
    "soup5 = bs(html5, 'html.parser')\n",
    "#Create list of hemispheres\n",
    "hemispheres = soup5.find_all('h3')\n",
    "hemispheres_text = [hemisphere.text for hemisphere in hemispheres]\n",
    "#Create list of link urls\n",
    "links = soup5.find_all('a', class_='itemLink product-item')\n",
    "url_links = links[2::2]\n",
    "linkIndex = 1\n",
    "#Parse through hemisphere list to pull images and create dictionaries\n",
    "hemisphere_image_urls = []\n",
    "for hemisphere in hemispheres_text:\n",
    "    #Set hemisphere dict\n",
    "    hemisphere_dict = {}\n",
    "    #Set hemisphere title\n",
    "    hemisphere_dict['title'] = hemisphere\n",
    "    #Move to hemisphere page\n",
    "    browser.click_link_by_partial_text(hemisphere)\n",
    "    #Set bs\n",
    "    htmlhemi = browser.html\n",
    "    souphemi = bs(htmlhemi, 'html.parser')\n",
    "    #Scrape image path\n",
    "    img_path = souphemi.find('img', class_='wide-image')['src']\n",
    "    #Set image url\n",
    "    img_url = 'https://astrogeology.usgs.gov/search/map/Mars/Viking/' + url_links[linkIndex]['href'] + img_path\n",
    "    hemisphere_dict['img_url'] = img_url\n",
    "    hemisphere_image_urls.append(hemisphere_dict)\n",
    "    #Return to homepage\n",
    "    browser.visit(url5)\n",
    "#Close browser\n",
    "browser.quit"
   ]
  },
  {
   "cell_type": "code",
   "execution_count": null,
   "metadata": {},
   "outputs": [],
   "source": []
  }
 ],
 "metadata": {
  "language_info": {
   "name": "python",
   "codemirror_mode": {
    "name": "ipython",
    "version": 3
   },
   "version": "3.7.6-final"
  },
  "orig_nbformat": 2,
  "file_extension": ".py",
  "mimetype": "text/x-python",
  "name": "python",
  "npconvert_exporter": "python",
  "pygments_lexer": "ipython3",
  "version": 3,
  "kernelspec": {
   "name": "python37664bitpythondataconda9adbda39bd454e7faf6cd0d67b7317a9",
   "display_name": "Python 3.7.6 64-bit ('PythonData': conda)"
  }
 },
 "nbformat": 4,
 "nbformat_minor": 2
}